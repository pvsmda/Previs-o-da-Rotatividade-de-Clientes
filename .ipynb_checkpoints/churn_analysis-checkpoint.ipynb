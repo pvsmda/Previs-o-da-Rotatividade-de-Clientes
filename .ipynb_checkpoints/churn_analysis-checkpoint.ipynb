{
 "cells": [
  {
   "cell_type": "markdown",
   "id": "138ff94d",
   "metadata": {},
   "source": [
    "# <p style=\"padding:10px;background-color:#E28F6B;margin:0;color:white;font-family:newtimeroman;font-size:100%;text-align:center;border-radius: 50px;font-family: Verdana; overflow:hidden;font-weight:500\">Análise de rotatividade de clientes</p>\n",
    "\n",
    "<p style=\"text-align:center; \">\n",
    "<img src=\"https://newsdailyarticles.com/wp-content/uploads/2020/09/5-Effective-Tips-To-Reduce-Customer-Churn.jpg\" style='width: 500px; height: 350px;'>\n",
    "</p>\n"
   ]
  }
 ],
 "metadata": {
  "kernelspec": {
   "display_name": "Python 3 (ipykernel)",
   "language": "python",
   "name": "python3"
  },
  "language_info": {
   "codemirror_mode": {
    "name": "ipython",
    "version": 3
   },
   "file_extension": ".py",
   "mimetype": "text/x-python",
   "name": "python",
   "nbconvert_exporter": "python",
   "pygments_lexer": "ipython3",
   "version": "3.9.13"
  }
 },
 "nbformat": 4,
 "nbformat_minor": 5
}
